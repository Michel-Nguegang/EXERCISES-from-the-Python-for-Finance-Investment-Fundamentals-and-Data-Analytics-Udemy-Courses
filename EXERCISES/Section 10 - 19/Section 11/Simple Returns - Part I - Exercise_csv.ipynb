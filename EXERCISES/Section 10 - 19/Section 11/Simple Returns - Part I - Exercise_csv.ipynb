version https://git-lfs.github.com/spec/v1
oid sha256:4c583c0ec10f59ce454fa75e33bd3ff1292872c347c5b78c28a327ea26481237
size 1984
