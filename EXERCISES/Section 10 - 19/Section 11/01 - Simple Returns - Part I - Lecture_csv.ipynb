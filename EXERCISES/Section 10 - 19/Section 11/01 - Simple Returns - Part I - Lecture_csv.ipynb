version https://git-lfs.github.com/spec/v1
oid sha256:7bbf86dae6b60b4f4124043f4a589739ed8f79fab1b6c7e39b09acaee6111ee9
size 54293
