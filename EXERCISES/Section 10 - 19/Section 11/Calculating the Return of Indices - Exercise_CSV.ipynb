version https://git-lfs.github.com/spec/v1
oid sha256:232c4df35f43e5368de52507dd31aa849d3dc1c80c9bc1e2ca414a912526c044
size 2001
