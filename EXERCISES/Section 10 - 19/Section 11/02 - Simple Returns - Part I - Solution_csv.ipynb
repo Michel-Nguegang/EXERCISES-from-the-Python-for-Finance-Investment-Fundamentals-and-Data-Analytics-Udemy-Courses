version https://git-lfs.github.com/spec/v1
oid sha256:ae53a8f0049d3aa7f468c20b8cf9a580b7c8a2c4dc72c0c72227a93b1f7a5ef9
size 11571
