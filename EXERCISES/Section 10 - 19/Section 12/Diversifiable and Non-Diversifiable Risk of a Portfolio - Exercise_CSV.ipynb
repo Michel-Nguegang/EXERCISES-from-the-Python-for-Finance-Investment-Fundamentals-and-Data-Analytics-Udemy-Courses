version https://git-lfs.github.com/spec/v1
oid sha256:bccda3011330f185327d528a53b1b3e2c4c9498fe5b8fb511800b09529b66978
size 4822
