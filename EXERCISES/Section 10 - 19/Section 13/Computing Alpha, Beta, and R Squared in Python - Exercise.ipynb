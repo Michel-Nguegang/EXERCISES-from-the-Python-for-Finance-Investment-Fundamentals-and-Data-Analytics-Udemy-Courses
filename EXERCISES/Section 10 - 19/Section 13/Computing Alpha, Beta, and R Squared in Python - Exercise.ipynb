version https://git-lfs.github.com/spec/v1
oid sha256:6623d24cd6b9a3a38dbd5ffee3273ed99ceb7f595b6e7ca9a48f9294d07fd1ec
size 5801
