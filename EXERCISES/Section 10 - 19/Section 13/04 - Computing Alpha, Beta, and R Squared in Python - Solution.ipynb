version https://git-lfs.github.com/spec/v1
oid sha256:a47fe84c8fa5ead5468cc10a27dcd5a2dbbb56240becd8e3ad0c679f955453c2
size 29794
