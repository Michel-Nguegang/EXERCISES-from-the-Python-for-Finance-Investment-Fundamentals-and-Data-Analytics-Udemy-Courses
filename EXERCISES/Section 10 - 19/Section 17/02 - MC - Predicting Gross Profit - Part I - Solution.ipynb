version https://git-lfs.github.com/spec/v1
oid sha256:a24a07467133fe18537b833ef3d94984881c1a71d57189a460c253496f842b75
size 277590
