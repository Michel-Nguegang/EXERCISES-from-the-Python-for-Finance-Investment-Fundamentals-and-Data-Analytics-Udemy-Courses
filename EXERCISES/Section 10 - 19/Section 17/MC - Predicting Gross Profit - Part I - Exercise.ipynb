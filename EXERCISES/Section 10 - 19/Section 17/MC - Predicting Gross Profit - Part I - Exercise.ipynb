version https://git-lfs.github.com/spec/v1
oid sha256:9fa81e78750301f805972603b813e04e4f2cf023d492ff784d10ae3c4ae2373f
size 2680
