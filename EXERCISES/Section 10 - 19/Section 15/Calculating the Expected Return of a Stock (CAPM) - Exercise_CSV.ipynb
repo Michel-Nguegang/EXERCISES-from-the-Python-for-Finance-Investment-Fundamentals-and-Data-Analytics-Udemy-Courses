version https://git-lfs.github.com/spec/v1
oid sha256:8b7da0accf30314b38d7dacf5564f086fd4ed611fd1ef22b65d962ca91351508
size 2211
