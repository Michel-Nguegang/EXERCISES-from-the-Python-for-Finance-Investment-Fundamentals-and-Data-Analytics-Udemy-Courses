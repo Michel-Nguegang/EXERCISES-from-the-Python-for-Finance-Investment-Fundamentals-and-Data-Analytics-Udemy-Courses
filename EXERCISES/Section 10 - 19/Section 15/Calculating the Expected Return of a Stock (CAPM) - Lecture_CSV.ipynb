version https://git-lfs.github.com/spec/v1
oid sha256:55a47f6cb21c6e4a67da21a52af4dbd97d9c5dea762d9ee98926623c847c2506
size 4441
