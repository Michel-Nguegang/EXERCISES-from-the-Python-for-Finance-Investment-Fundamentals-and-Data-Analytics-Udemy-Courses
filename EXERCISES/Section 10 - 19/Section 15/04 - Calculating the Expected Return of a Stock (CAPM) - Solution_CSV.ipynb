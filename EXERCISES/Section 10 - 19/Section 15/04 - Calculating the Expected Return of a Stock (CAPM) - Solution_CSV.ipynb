version https://git-lfs.github.com/spec/v1
oid sha256:5d16526bde0d5e7ce025face410634a554d9c8a2b97fc02e3b74e6142730c428
size 2536
